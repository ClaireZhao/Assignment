{
 "cells": [
  {
   "cell_type": "markdown",
   "id": "7488a7e2-f11b-4cf4-bbd6-9131bc7dfc1d",
   "metadata": {},
   "source": [
    "# Data Science Tools and Ecosystem"
   ]
  },
  {
   "cell_type": "markdown",
   "id": "3ea82211-6225-4028-971c-97b029831716",
   "metadata": {},
   "source": [
    "In this notebook, Data Science Tools and Ecosystem are summarized."
   ]
  },
  {
   "cell_type": "markdown",
   "id": "9d377c97-39a1-48ab-adba-a50038675154",
   "metadata": {
    "tags": []
   },
   "source": [
    "**Objectives:**\n",
    "- List of the popular languages that Data Scientists use\n",
    "- List of commonly used libraries used by Data Scientists\n",
    "- List of Data Science Tools\n",
    "- Examples of evaluating arithmetic expressions in Python"
   ]
  },
  {
   "cell_type": "markdown",
   "id": "fb9597bb-33b6-4a97-b38e-bc2343b012f5",
   "metadata": {},
   "source": [
    "Some of the popular languages that Data Scientists use are:\n",
    "1. R\n",
    "2. Python\n",
    "3. SAS\n",
    "4. SQL"
   ]
  },
  {
   "cell_type": "markdown",
   "id": "8f576bea-8a3b-482c-ba2e-b01e42095403",
   "metadata": {},
   "source": [
    "Some of the commonly used libraries used by Data Scientists include:\n",
    "1. PyTourch\n",
    "2. Keras\n",
    "3. Seaborn\n",
    "4. Pandas"
   ]
  },
  {
   "cell_type": "markdown",
   "id": "8c463081-a54c-47b4-b4eb-cc8e58fd3a98",
   "metadata": {},
   "source": [
    "| Data Science Tools |\n",
    "| ------ | \n",
    "| Jupyter Notebook |\n",
    "| RStudio |\n",
    "| Apache Zeppelin |"
   ]
  },
  {
   "cell_type": "markdown",
   "id": "b4e67ed1-addf-4152-9485-4a8e15d93461",
   "metadata": {},
   "source": [
    "### Below are a few examples of evaluating arithmetic expressions in Python"
   ]
  },
  {
   "cell_type": "code",
   "execution_count": 4,
   "id": "7b4867de-5ac8-4970-8d9d-a1c4ce3a425f",
   "metadata": {
    "tags": []
   },
   "outputs": [
    {
     "data": {
      "text/plain": [
       "17"
      ]
     },
     "execution_count": 4,
     "metadata": {},
     "output_type": "execute_result"
    }
   ],
   "source": [
    "# This a simple arithmetic expression to mutiply then add integer \n",
    "(3*4)+5"
   ]
  },
  {
   "cell_type": "code",
   "execution_count": 5,
   "id": "c8da2a10-fec3-47e9-9f33-514d518218a4",
   "metadata": {
    "tags": []
   },
   "outputs": [
    {
     "data": {
      "text/plain": [
       "3.3333333333333335"
      ]
     },
     "execution_count": 5,
     "metadata": {},
     "output_type": "execute_result"
    }
   ],
   "source": [
    "# This will convert 200 minutes to hours by diving by 60\n",
    "200/60"
   ]
  },
  {
   "cell_type": "markdown",
   "id": "8a6fbc21-7203-4f46-a049-9d7f5c2c6735",
   "metadata": {
    "tags": []
   },
   "source": [
    "## Author:\n",
    "Claire"
   ]
  },
  {
   "cell_type": "code",
   "execution_count": null,
   "id": "b0253a45-c95b-4e11-adc1-d79dca5915a3",
   "metadata": {},
   "outputs": [],
   "source": []
  }
 ],
 "metadata": {
  "kernelspec": {
   "display_name": "Python",
   "language": "python",
   "name": "conda-env-python-py"
  },
  "language_info": {
   "codemirror_mode": {
    "name": "ipython",
    "version": 3
   },
   "file_extension": ".py",
   "mimetype": "text/x-python",
   "name": "python",
   "nbconvert_exporter": "python",
   "pygments_lexer": "ipython3",
   "version": "3.7.12"
  }
 },
 "nbformat": 4,
 "nbformat_minor": 5
}
